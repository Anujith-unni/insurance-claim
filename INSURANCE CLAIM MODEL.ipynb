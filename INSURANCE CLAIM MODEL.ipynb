{
 "cells": [
  {
   "cell_type": "markdown",
   "metadata": {},
   "source": [
    "## installing libraries"
   ]
  },
  {
   "cell_type": "code",
   "execution_count": 1,
   "metadata": {},
   "outputs": [],
   "source": [
    "import numpy as np\n",
    "import pandas as pd\n",
    "\n",
    "import matplotlib.pyplot as plt\n",
    "import seaborn as sns"
   ]
  },
  {
   "cell_type": "markdown",
   "metadata": {},
   "source": [
    "## importing data"
   ]
  },
  {
   "cell_type": "code",
   "execution_count": 2,
   "metadata": {},
   "outputs": [
    {
     "name": "stdout",
     "output_type": "stream",
     "text": [
      "(1338, 7)\n"
     ]
    },
    {
     "data": {
      "text/html": [
       "<div>\n",
       "<style scoped>\n",
       "    .dataframe tbody tr th:only-of-type {\n",
       "        vertical-align: middle;\n",
       "    }\n",
       "\n",
       "    .dataframe tbody tr th {\n",
       "        vertical-align: top;\n",
       "    }\n",
       "\n",
       "    .dataframe thead th {\n",
       "        text-align: right;\n",
       "    }\n",
       "</style>\n",
       "<table border=\"1\" class=\"dataframe\">\n",
       "  <thead>\n",
       "    <tr style=\"text-align: right;\">\n",
       "      <th></th>\n",
       "      <th>age</th>\n",
       "      <th>sex</th>\n",
       "      <th>bmi</th>\n",
       "      <th>children</th>\n",
       "      <th>smoker</th>\n",
       "      <th>region</th>\n",
       "      <th>charges</th>\n",
       "    </tr>\n",
       "  </thead>\n",
       "  <tbody>\n",
       "    <tr>\n",
       "      <th>0</th>\n",
       "      <td>19</td>\n",
       "      <td>female</td>\n",
       "      <td>27.900</td>\n",
       "      <td>0</td>\n",
       "      <td>yes</td>\n",
       "      <td>southwest</td>\n",
       "      <td>16884.92400</td>\n",
       "    </tr>\n",
       "    <tr>\n",
       "      <th>1</th>\n",
       "      <td>18</td>\n",
       "      <td>male</td>\n",
       "      <td>33.770</td>\n",
       "      <td>1</td>\n",
       "      <td>no</td>\n",
       "      <td>southeast</td>\n",
       "      <td>1725.55230</td>\n",
       "    </tr>\n",
       "    <tr>\n",
       "      <th>2</th>\n",
       "      <td>28</td>\n",
       "      <td>male</td>\n",
       "      <td>33.000</td>\n",
       "      <td>3</td>\n",
       "      <td>no</td>\n",
       "      <td>southeast</td>\n",
       "      <td>4449.46200</td>\n",
       "    </tr>\n",
       "    <tr>\n",
       "      <th>3</th>\n",
       "      <td>33</td>\n",
       "      <td>male</td>\n",
       "      <td>22.705</td>\n",
       "      <td>0</td>\n",
       "      <td>no</td>\n",
       "      <td>northwest</td>\n",
       "      <td>21984.47061</td>\n",
       "    </tr>\n",
       "    <tr>\n",
       "      <th>4</th>\n",
       "      <td>32</td>\n",
       "      <td>male</td>\n",
       "      <td>28.880</td>\n",
       "      <td>0</td>\n",
       "      <td>no</td>\n",
       "      <td>northwest</td>\n",
       "      <td>3866.85520</td>\n",
       "    </tr>\n",
       "  </tbody>\n",
       "</table>\n",
       "</div>"
      ],
      "text/plain": [
       "   age     sex     bmi  children smoker     region      charges\n",
       "0   19  female  27.900         0    yes  southwest  16884.92400\n",
       "1   18    male  33.770         1     no  southeast   1725.55230\n",
       "2   28    male  33.000         3     no  southeast   4449.46200\n",
       "3   33    male  22.705         0     no  northwest  21984.47061\n",
       "4   32    male  28.880         0     no  northwest   3866.85520"
      ]
     },
     "execution_count": 2,
     "metadata": {},
     "output_type": "execute_result"
    }
   ],
   "source": [
    "data = pd.read_csv('insurance.csv')\n",
    "\n",
    "print(data.shape)\n",
    "\n",
    "data.head()"
   ]
  },
  {
   "cell_type": "code",
   "execution_count": 3,
   "metadata": {},
   "outputs": [
    {
     "name": "stdout",
     "output_type": "stream",
     "text": [
      "<class 'pandas.core.frame.DataFrame'>\n",
      "RangeIndex: 1338 entries, 0 to 1337\n",
      "Data columns (total 7 columns):\n",
      " #   Column    Non-Null Count  Dtype  \n",
      "---  ------    --------------  -----  \n",
      " 0   age       1338 non-null   int64  \n",
      " 1   sex       1338 non-null   object \n",
      " 2   bmi       1338 non-null   float64\n",
      " 3   children  1338 non-null   int64  \n",
      " 4   smoker    1338 non-null   object \n",
      " 5   region    1338 non-null   object \n",
      " 6   charges   1338 non-null   float64\n",
      "dtypes: float64(2), int64(2), object(3)\n",
      "memory usage: 73.3+ KB\n"
     ]
    }
   ],
   "source": [
    "data.info()"
   ]
  },
  {
   "cell_type": "code",
   "execution_count": 4,
   "metadata": {},
   "outputs": [
    {
     "data": {
      "text/html": [
       "<div>\n",
       "<style scoped>\n",
       "    .dataframe tbody tr th:only-of-type {\n",
       "        vertical-align: middle;\n",
       "    }\n",
       "\n",
       "    .dataframe tbody tr th {\n",
       "        vertical-align: top;\n",
       "    }\n",
       "\n",
       "    .dataframe thead th {\n",
       "        text-align: right;\n",
       "    }\n",
       "</style>\n",
       "<table border=\"1\" class=\"dataframe\">\n",
       "  <thead>\n",
       "    <tr style=\"text-align: right;\">\n",
       "      <th></th>\n",
       "      <th>age</th>\n",
       "      <th>bmi</th>\n",
       "      <th>children</th>\n",
       "      <th>charges</th>\n",
       "    </tr>\n",
       "  </thead>\n",
       "  <tbody>\n",
       "    <tr>\n",
       "      <th>count</th>\n",
       "      <td>1338.000000</td>\n",
       "      <td>1338.000000</td>\n",
       "      <td>1338.000000</td>\n",
       "      <td>1338.000000</td>\n",
       "    </tr>\n",
       "    <tr>\n",
       "      <th>mean</th>\n",
       "      <td>39.207025</td>\n",
       "      <td>30.663397</td>\n",
       "      <td>1.094918</td>\n",
       "      <td>13270.422265</td>\n",
       "    </tr>\n",
       "    <tr>\n",
       "      <th>std</th>\n",
       "      <td>14.049960</td>\n",
       "      <td>6.098187</td>\n",
       "      <td>1.205493</td>\n",
       "      <td>12110.011237</td>\n",
       "    </tr>\n",
       "    <tr>\n",
       "      <th>min</th>\n",
       "      <td>18.000000</td>\n",
       "      <td>15.960000</td>\n",
       "      <td>0.000000</td>\n",
       "      <td>1121.873900</td>\n",
       "    </tr>\n",
       "    <tr>\n",
       "      <th>25%</th>\n",
       "      <td>27.000000</td>\n",
       "      <td>26.296250</td>\n",
       "      <td>0.000000</td>\n",
       "      <td>4740.287150</td>\n",
       "    </tr>\n",
       "    <tr>\n",
       "      <th>50%</th>\n",
       "      <td>39.000000</td>\n",
       "      <td>30.400000</td>\n",
       "      <td>1.000000</td>\n",
       "      <td>9382.033000</td>\n",
       "    </tr>\n",
       "    <tr>\n",
       "      <th>75%</th>\n",
       "      <td>51.000000</td>\n",
       "      <td>34.693750</td>\n",
       "      <td>2.000000</td>\n",
       "      <td>16639.912515</td>\n",
       "    </tr>\n",
       "    <tr>\n",
       "      <th>max</th>\n",
       "      <td>64.000000</td>\n",
       "      <td>53.130000</td>\n",
       "      <td>5.000000</td>\n",
       "      <td>63770.428010</td>\n",
       "    </tr>\n",
       "  </tbody>\n",
       "</table>\n",
       "</div>"
      ],
      "text/plain": [
       "               age          bmi     children       charges\n",
       "count  1338.000000  1338.000000  1338.000000   1338.000000\n",
       "mean     39.207025    30.663397     1.094918  13270.422265\n",
       "std      14.049960     6.098187     1.205493  12110.011237\n",
       "min      18.000000    15.960000     0.000000   1121.873900\n",
       "25%      27.000000    26.296250     0.000000   4740.287150\n",
       "50%      39.000000    30.400000     1.000000   9382.033000\n",
       "75%      51.000000    34.693750     2.000000  16639.912515\n",
       "max      64.000000    53.130000     5.000000  63770.428010"
      ]
     },
     "execution_count": 4,
     "metadata": {},
     "output_type": "execute_result"
    }
   ],
   "source": [
    "data.describe()"
   ]
  },
  {
   "cell_type": "code",
   "execution_count": 5,
   "metadata": {},
   "outputs": [
    {
     "data": {
      "text/plain": [
       "age         0\n",
       "sex         0\n",
       "bmi         0\n",
       "children    0\n",
       "smoker      0\n",
       "region      0\n",
       "charges     0\n",
       "dtype: int64"
      ]
     },
     "execution_count": 5,
     "metadata": {},
     "output_type": "execute_result"
    }
   ],
   "source": [
    "data.isnull().sum()"
   ]
  },
  {
   "cell_type": "code",
   "execution_count": 6,
   "metadata": {},
   "outputs": [
    {
     "data": {
      "text/plain": [
       "male      676\n",
       "female    662\n",
       "Name: sex, dtype: int64"
      ]
     },
     "execution_count": 6,
     "metadata": {},
     "output_type": "execute_result"
    }
   ],
   "source": [
    "data['sex'].value_counts()"
   ]
  },
  {
   "cell_type": "code",
   "execution_count": 7,
   "metadata": {},
   "outputs": [
    {
     "data": {
      "text/plain": [
       "18    69\n",
       "19    68\n",
       "51    29\n",
       "45    29\n",
       "46    29\n",
       "47    29\n",
       "48    29\n",
       "50    29\n",
       "52    29\n",
       "20    29\n",
       "26    28\n",
       "54    28\n",
       "53    28\n",
       "25    28\n",
       "24    28\n",
       "49    28\n",
       "23    28\n",
       "22    28\n",
       "21    28\n",
       "27    28\n",
       "28    28\n",
       "31    27\n",
       "29    27\n",
       "30    27\n",
       "41    27\n",
       "43    27\n",
       "44    27\n",
       "40    27\n",
       "42    27\n",
       "57    26\n",
       "34    26\n",
       "33    26\n",
       "32    26\n",
       "56    26\n",
       "55    26\n",
       "59    25\n",
       "58    25\n",
       "39    25\n",
       "38    25\n",
       "35    25\n",
       "36    25\n",
       "37    25\n",
       "63    23\n",
       "60    23\n",
       "61    23\n",
       "62    23\n",
       "64    22\n",
       "Name: age, dtype: int64"
      ]
     },
     "execution_count": 7,
     "metadata": {},
     "output_type": "execute_result"
    }
   ],
   "source": [
    "data['age'].value_counts()"
   ]
  },
  {
   "cell_type": "code",
   "execution_count": 8,
   "metadata": {},
   "outputs": [
    {
     "data": {
      "text/plain": [
       "0    574\n",
       "1    324\n",
       "2    240\n",
       "3    157\n",
       "4     25\n",
       "5     18\n",
       "Name: children, dtype: int64"
      ]
     },
     "execution_count": 8,
     "metadata": {},
     "output_type": "execute_result"
    }
   ],
   "source": [
    "data['children'].value_counts()"
   ]
  },
  {
   "cell_type": "code",
   "execution_count": 9,
   "metadata": {},
   "outputs": [
    {
     "data": {
      "text/plain": [
       "no     1064\n",
       "yes     274\n",
       "Name: smoker, dtype: int64"
      ]
     },
     "execution_count": 9,
     "metadata": {},
     "output_type": "execute_result"
    }
   ],
   "source": [
    "data['smoker'].value_counts()"
   ]
  },
  {
   "cell_type": "code",
   "execution_count": 10,
   "metadata": {},
   "outputs": [
    {
     "data": {
      "text/plain": [
       "southeast    364\n",
       "southwest    325\n",
       "northwest    325\n",
       "northeast    324\n",
       "Name: region, dtype: int64"
      ]
     },
     "execution_count": 10,
     "metadata": {},
     "output_type": "execute_result"
    }
   ],
   "source": [
    "data['region'].value_counts()"
   ]
  },
  {
   "cell_type": "code",
   "execution_count": 11,
   "metadata": {},
   "outputs": [
    {
     "data": {
      "text/plain": [
       "Index(['age', 'sex', 'bmi', 'children', 'smoker', 'region', 'charges'], dtype='object')"
      ]
     },
     "execution_count": 11,
     "metadata": {},
     "output_type": "execute_result"
    }
   ],
   "source": [
    "data.columns"
   ]
  },
  {
   "cell_type": "markdown",
   "metadata": {},
   "source": [
    "### data analysis"
   ]
  },
  {
   "cell_type": "code",
   "execution_count": 12,
   "metadata": {},
   "outputs": [
    {
     "data": {
      "text/plain": [
       "Text(0.5, 1.0, 'Age vs Charges')"
      ]
     },
     "execution_count": 12,
     "metadata": {},
     "output_type": "execute_result"
    },
    {
     "data": {
      "image/png": "[encoded data removed]",
      "text/plain": [
       "<Figure size 864x576 with 1 Axes>"
      ]
     },
     "metadata": {
      "needs_background": "light"
     },
     "output_type": "display_data"
    }
   ],
   "source": [
    "# Age vs Charges\n",
    "# the more the age the more will be insurance charge (roughly estimated)\n",
    "\n",
    "plt.figure(figsize = (12, 8))\n",
    "sns.barplot(x = 'age', y = 'charges', data = data)\n",
    "\n",
    "plt.title(\"Age vs Charges\")"
   ]
  },
  {
   "cell_type": "code",
   "execution_count": 13,
   "metadata": {},
   "outputs": [
    {
     "data": {
      "text/plain": [
       "Text(0.5, 1.0, 'sex vs charges')"
      ]
     },
     "execution_count": 13,
     "metadata": {},
     "output_type": "execute_result"
    },
    {
     "data": {
      "image/png": "[encoded data removed]",
      "text/plain": [
       "<Figure size 432x432 with 1 Axes>"
      ]
     },
     "metadata": {
      "needs_background": "light"
     },
     "output_type": "display_data"
    }
   ],
   "source": [
    "# sex vs charges\n",
    "# males have slightly greater insurance charges than females in general\n",
    "\n",
    "plt.figure(figsize = (6, 6))\n",
    "sns.barplot(x = 'sex', y = 'charges', data = data)\n",
    "\n",
    "plt.title('sex vs charges')"
   ]
  },
  {
   "cell_type": "code",
   "execution_count": 14,
   "metadata": {},
   "outputs": [
    {
     "data": {
      "text/plain": [
       "Text(0.5, 1.0, 'children vs charges')"
      ]
     },
     "execution_count": 14,
     "metadata": {},
     "output_type": "execute_result"
    },
    {
     "data": {
      "image/png": "[encoded data removed]",
      "text/plain": [
       "<Figure size 864x576 with 1 Axes>"
      ]
     },
     "metadata": {
      "needs_background": "light"
     },
     "output_type": "display_data"
    }
   ],
   "source": [
    "# children vs charges\n",
    "# no. of childrens of a person has a very interesting dependency on insurance costs\n",
    "\n",
    "plt.figure(figsize = (12, 8))\n",
    "sns.barplot(x = 'children', y = 'charges', data = data)\n",
    "\n",
    "plt.title('children vs charges')"
   ]
  },
  {
   "cell_type": "code",
   "execution_count": 15,
   "metadata": {},
   "outputs": [
    {
     "data": {
      "text/plain": [
       "Text(0.5, 1.0, 'region vs charges')"
      ]
     },
     "execution_count": 15,
     "metadata": {},
     "output_type": "execute_result"
    },
    {
     "data": {
      "image/png": "[encoded data removed]",
      "text/plain": [
       "<Figure size 864x576 with 1 Axes>"
      ]
     },
     "metadata": {
      "needs_background": "light"
     },
     "output_type": "display_data"
    }
   ],
   "source": [
    "# region vs charges\n",
    "# From the graph we can see that the region actually does not play any role in determining the insurance charges\n",
    "\n",
    "plt.figure(figsize = (12, 8))\n",
    "sns.barplot(x = 'region', y = 'charges', data = data)\n",
    "\n",
    "plt.title('region vs charges')"
   ]
  },
  {
   "cell_type": "code",
   "execution_count": 16,
   "metadata": {},
   "outputs": [
    {
     "data": {
      "text/plain": [
       "Text(0.5, 1.0, 'smoker vs charges')"
      ]
     },
     "execution_count": 16,
     "metadata": {},
     "output_type": "execute_result"
    },
    {
     "data": {
      "image/png": "[encoded data removed]",
      "text/plain": [
       "<Figure size 432x432 with 1 Axes>"
      ]
     },
     "metadata": {
      "needs_background": "light"
     },
     "output_type": "display_data"
    }
   ],
   "source": [
    "# smoker vs charges\n",
    "# from the graph below, it is visible that smokers have more insurance charges than the non smokers\n",
    "\n",
    "plt.figure(figsize = (6, 6))\n",
    "sns.barplot(x = 'smoker', y = 'charges', data = data)\n",
    "\n",
    "plt.title('smoker vs charges')"
   ]
  },
  {
   "cell_type": "markdown",
   "metadata": {},
   "source": [
    "## corrleation plot"
   ]
  },
  {
   "cell_type": "code",
   "execution_count": 17,
   "metadata": {},
   "outputs": [
    {
     "data": {
      "text/plain": [
       "<AxesSubplot:>"
      ]
     },
     "execution_count": 17,
     "metadata": {},
     "output_type": "execute_result"
    },
    {
     "data": {
      "image/png": "[encoded data removed]",
      "text/plain": [
       "<Figure size 720x720 with 2 Axes>"
      ]
     },
     "metadata": {
      "needs_background": "light"
     },
     "output_type": "display_data"
    }
   ],
   "source": [
    "# plotting the correlation plot for the dataset\n",
    "\n",
    "f, ax = plt.subplots(figsize = (10, 10))\n",
    "\n",
    "corr = data.corr()\n",
    "sns.heatmap(corr, mask = np.zeros_like(corr, dtype = np.bool), \n",
    "            cmap = sns.diverging_palette(50, 10, as_cmap = True), square = True, ax = ax)"
   ]
  },
  {
   "cell_type": "markdown",
   "metadata": {},
   "source": [
    "### dtata preprocessing"
   ]
  },
  {
   "cell_type": "code",
   "execution_count": 18,
   "metadata": {},
   "outputs": [
    {
     "name": "stdout",
     "output_type": "stream",
     "text": [
      "(1338, 6)\n"
     ]
    },
    {
     "data": {
      "text/plain": [
       "Index(['age', 'sex', 'bmi', 'children', 'smoker', 'charges'], dtype='object')"
      ]
     },
     "execution_count": 18,
     "metadata": {},
     "output_type": "execute_result"
    }
   ],
   "source": [
    "# removing unnecassary columns from the dataset\n",
    "\n",
    "data = data.drop('region', axis = 1)\n",
    "\n",
    "print(data.shape)\n",
    "\n",
    "data.columns"
   ]
  },
  {
   "cell_type": "code",
   "execution_count": 19,
   "metadata": {},
   "outputs": [],
   "source": [
    "# label encoding for sex and smoker\n",
    "\n",
    "# importing label encoder\n",
    "from sklearn.preprocessing import LabelEncoder\n",
    "\n",
    "# creating a label encoder\n",
    "le = LabelEncoder()\n",
    "\n",
    "\n",
    "# label encoding for sex\n",
    "# 0 for females and 1 for males\n",
    "data['sex'] = le.fit_transform(data['sex'])\n",
    "\n",
    "# label encoding for smoker\n",
    "# 0 for smokers and 1 for non smokers\n",
    "data['smoker'] = le.fit_transform(data['smoker'])"
   ]
  },
  {
   "cell_type": "code",
   "execution_count": 20,
   "metadata": {},
   "outputs": [
    {
     "data": {
      "text/plain": [
       "1    676\n",
       "0    662\n",
       "Name: sex, dtype: int64"
      ]
     },
     "execution_count": 20,
     "metadata": {},
     "output_type": "execute_result"
    }
   ],
   "source": [
    "data['sex'].value_counts()"
   ]
  },
  {
   "cell_type": "code",
   "execution_count": 21,
   "metadata": {},
   "outputs": [
    {
     "data": {
      "text/plain": [
       "0    1064\n",
       "1     274\n",
       "Name: smoker, dtype: int64"
      ]
     },
     "execution_count": 21,
     "metadata": {},
     "output_type": "execute_result"
    }
   ],
   "source": [
    "data['smoker'].value_counts()"
   ]
  },
  {
   "cell_type": "code",
   "execution_count": 22,
   "metadata": {},
   "outputs": [
    {
     "name": "stdout",
     "output_type": "stream",
     "text": [
      "(1338, 5)\n",
      "(1338,)\n"
     ]
    }
   ],
   "source": [
    "# splitting the dependent and independent variable\n",
    "\n",
    "x = data.iloc[:,:5]\n",
    "y = data.iloc[:,5]\n",
    "\n",
    "print(x.shape)\n",
    "print(y.shape)"
   ]
  },
  {
   "cell_type": "code",
   "execution_count": 23,
   "metadata": {},
   "outputs": [
    {
     "name": "stdout",
     "output_type": "stream",
     "text": [
      "(1070, 5)\n",
      "(268, 5)\n",
      "(1070,)\n",
      "(268,)\n"
     ]
    }
   ],
   "source": [
    "# splitting the dataset into training and testing sets\n",
    "\n",
    "from sklearn.model_selection import train_test_split\n",
    "\n",
    "x_train, x_test, y_train, y_test = train_test_split(x, y, test_size = 0.2, random_state = 30)\n",
    "\n",
    "print(x_train.shape)\n",
    "print(x_test.shape)\n",
    "print(y_train.shape)\n",
    "print(y_test.shape)"
   ]
  },
  {
   "cell_type": "code",
   "execution_count": 24,
   "metadata": {},
   "outputs": [],
   "source": [
    "# standard scaling\n",
    "\n",
    "from sklearn.preprocessing import StandardScaler\n",
    "\n",
    "# creating a standard scaler\n",
    "sc = StandardScaler()\n",
    "\n",
    "# feeding independents sets into the standard scaler\n",
    "x_train = sc.fit_transform(x_train)\n",
    "x_test = sc.fit_transform(x_test)\n"
   ]
  },
  {
   "cell_type": "markdown",
   "metadata": {},
   "source": [
    " # modeling ### linear regression"
   ]
  },
  {
   "cell_type": "code",
   "execution_count": 25,
   "metadata": {},
   "outputs": [
    {
     "name": "stdout",
     "output_type": "stream",
     "text": [
      "MSE : 37806750.25007653\n",
      "RMSE : 6148.719399198221\n",
      "r2 score : 0.7549043319540902\n"
     ]
    }
   ],
   "source": [
    "from sklearn.linear_model import LinearRegression\n",
    "from sklearn.metrics import r2_score\n",
    "\n",
    "\n",
    "# creating the model\n",
    "model = LinearRegression()\n",
    "\n",
    "# feeding the training data to the model\n",
    "model.fit(x_train, y_train)\n",
    "\n",
    "# predicting the test set results\n",
    "y_pred = model.predict(x_test)\n",
    "\n",
    "# calculating the mean squared error\n",
    "mse = np.mean((y_test - y_pred)**2, axis = None)\n",
    "print(\"MSE :\", mse)\n",
    "\n",
    "# Calculating the root mean squared error\n",
    "rmse = np.sqrt(mse)\n",
    "print(\"RMSE :\", rmse)\n",
    "\n",
    "# Calculating the r2 score\n",
    "r2 = r2_score(y_test, y_pred)\n",
    "print(\"r2 score :\", r2)"
   ]
  },
  {
   "cell_type": "code",
   "execution_count": 26,
   "metadata": {},
   "outputs": [
    {
     "data": {
      "text/plain": [
       "338    41919.09700\n",
       "620     3659.34600\n",
       "965     4746.34400\n",
       "128    32734.18630\n",
       "329     9144.56500\n",
       "          ...     \n",
       "580    12913.99240\n",
       "786    12741.16745\n",
       "321    24671.66334\n",
       "903     8125.78450\n",
       "613     6753.03800\n",
       "Name: charges, Length: 268, dtype: float64"
      ]
     },
     "execution_count": 26,
     "metadata": {},
     "output_type": "execute_result"
    }
   ],
   "source": [
    "y_test"
   ]
  },
  {
   "cell_type": "code",
   "execution_count": 27,
   "metadata": {},
   "outputs": [
    {
     "data": {
      "text/plain": [
       "array([34463.03582081,  5351.63285316,  5380.9763682 , 25960.03740848,\n",
       "       12496.7519736 ,  6408.63819349,  4081.62037308,  9300.34454944,\n",
       "       32957.30705757, 10937.63104598,  7519.13584334,  9726.30820152,\n",
       "       34438.32925237, 11046.23596617,   819.90626006, 35368.51634447,\n",
       "       11430.73775682,  8747.50405981, 28520.23066838, 10780.77269818,\n",
       "         885.55261833,  8140.91449068,  7686.87521254, 10734.04414171,\n",
       "       32605.85490348, 38733.33147903, 14385.6266007 ,  2947.77854767,\n",
       "       10456.87417122, 14224.24201886,  1675.51537561, 30193.11285619,\n",
       "         944.28091937, 14459.05536274, 12261.67368565,  8411.64973742,\n",
       "        1863.86250159,  6487.85043844,   186.61387983,  8192.76868362,\n",
       "        6366.87004436, 33513.53920691,  2007.49195393, 13551.24985198,\n",
       "       10145.95016308, 29556.16908321,  4878.71697149,  2536.59789849,\n",
       "        2321.4068302 ,  4974.23941116, 10987.31701618, 12416.97110239,\n",
       "       11958.11247547,   878.6345611 , 10867.31696491,  7014.47673418,\n",
       "       30770.43624113,  3085.98932145, 12488.52222358,  4450.51876345,\n",
       "       14678.35341681, 10623.53897858, 10948.69439689,  7374.3905582 ,\n",
       "        -978.28401768,  7629.31479487,  9810.98011112,  1149.77856134,\n",
       "        2548.43516479, 14512.29061742, 10501.54007914,  1841.39577283,\n",
       "        -224.99158618,  9265.54108489, 15755.42309527, -1149.84543201,\n",
       "       12147.72995061,  9330.21802531, 30356.77333761,  3653.33962314,\n",
       "         545.20515877, 10684.17012809,  9022.73780012, 30272.28911391,\n",
       "         672.42427126, 16353.28226251,  9013.53855958, 16932.14101336,\n",
       "        8763.20999857, 10702.14625251, 13652.63310542, 13267.91285269,\n",
       "       26057.54552337, 10462.48053567, 36423.84250946,  5145.79821997,\n",
       "        9532.35471109,   926.07280238,  6635.18312192, 34906.78798409,\n",
       "       34158.76753135,  8214.44050747,  9411.37431701,  7688.53439131,\n",
       "       32529.66951388, 25511.65654536,  6777.39016891, 35454.16845154,\n",
       "       33219.62747392,  1609.23659071,  9998.79727626,  6353.29894664,\n",
       "         320.81484993, 27468.57195946,  5412.16153686,  3715.05350858,\n",
       "       12262.46070132,  9555.31534078,  9525.43925938, 14595.51230853,\n",
       "        3855.21657588, 12023.31930406, 35841.13122215, 13831.8140877 ,\n",
       "       29096.40483881, 10532.1206343 , 13508.47897596,  8307.15708673,\n",
       "       30641.07975475, 11799.75474899, 10913.21723476,  5051.51282042,\n",
       "       33133.81423905, 26496.77934186, 11907.79372111,  2425.45213464,\n",
       "       40073.30105238, 24746.02998359, 11451.66087289,  6106.9080695 ,\n",
       "       12198.53478933,  9957.56176616,  3122.99924398, 36902.66308138,\n",
       "        7459.50720854, 10429.20194228,  5980.51463811,  3054.09411045,\n",
       "        9315.71342431, 32270.66906763, 15567.01745264,  6190.19131299,\n",
       "       10564.69475393,  5912.3169414 ,  8956.52809931,  7866.35712614,\n",
       "        4482.86660442, 12337.22896928, 17313.76229093,  4826.20493211,\n",
       "       10269.27278997, 30934.25920084, 13836.30990308,  9759.65327348,\n",
       "       14733.9054845 , 15013.31001096, 33913.26345748,  7685.12399007,\n",
       "        6632.4958633 ,  1590.05645034,  7995.5233211 , 11485.27653018,\n",
       "        5580.34296861,  4338.74057296, 32717.41202635,  6957.46627391,\n",
       "        2839.55977889,  9807.06898534, 14354.56271204, 29550.1352964 ,\n",
       "       10182.87486551, 13822.99846572,  1005.51668237,    72.32794253,\n",
       "       38413.17781168, 27229.70114753, 26637.25516294,  6556.18926638,\n",
       "       30858.07120572, 14228.50887739,  -840.07324389,  8911.75183635,\n",
       "       13619.1000627 , 11509.23467571,  1418.8785819 , 12148.43710257,\n",
       "       15333.31465784, 30788.34335414, 29654.44554492,  5250.65574769,\n",
       "        9583.20074809,  2499.54931054,  7215.57463317,  6645.54235659,\n",
       "       27220.16759396,   814.5900473 ,  4515.0133017 , 36332.3988849 ,\n",
       "       34805.58973835, 36453.53611601,  6103.58021016,  6986.1079207 ,\n",
       "       38454.74734995,  6306.68110274,  5287.9666742 , 37881.90632257,\n",
       "        5323.26143416,  2394.72227414, 16398.81765532, 27936.09993877,\n",
       "        9817.33743134, 37684.21361379, 11562.07174432,  1278.94736183,\n",
       "        2650.87305617,  9439.79236335,  8875.89112834,  6930.15238323,\n",
       "        7026.85741912,  2642.02137428,  9024.07462785, 10720.6914334 ,\n",
       "        9706.00665978, 12744.94323341,  9489.66377145, 31193.25443604,\n",
       "       29453.69520459, 11057.63638097,  6926.14257954, 27519.87626768,\n",
       "       16100.18911202, 14502.11378493,  8747.28306487,  5392.53926128,\n",
       "       15805.26112166, 10823.34510868,  1127.65410752,  3976.08097368,\n",
       "        4994.98837183, 14941.72586559,  4270.84084452, 10243.5168673 ,\n",
       "       13430.53447465, 36555.13522602, 24709.58072542,  3897.41325707,\n",
       "       11426.28321239, 10864.09981814, 10704.65146648, 26290.07775662,\n",
       "        9177.5825869 , 15075.22243459,  5366.66213128, 11346.31472796,\n",
       "       14730.95067629,  5355.25346971, 11734.22431433,  3840.88359743])"
      ]
     },
     "execution_count": 27,
     "metadata": {},
     "output_type": "execute_result"
    }
   ],
   "source": [
    "y_pred"
   ]
  },
  {
   "cell_type": "markdown",
   "metadata": {},
   "source": [
    "# SUPPORT VECTOR MACHINE"
   ]
  },
  {
   "cell_type": "code",
   "execution_count": 28,
   "metadata": {},
   "outputs": [
    {
     "name": "stdout",
     "output_type": "stream",
     "text": [
      "MSE : 174595630.81989565\n",
      "RMSE : 13213.46399775228\n",
      "r2 score : -0.13187810353027452\n"
     ]
    }
   ],
   "source": [
    "from sklearn.svm import SVR\n",
    "\n",
    "# creating the model\n",
    "model = SVR()\n",
    "\n",
    "# feeding the training data to the model\n",
    "model.fit(x_train, y_train)\n",
    "\n",
    "# predicting the test set results\n",
    "y_pred = model.predict(x_test)\n",
    "\n",
    "# calculating the mean squared error\n",
    "mse = np.mean((y_test - y_pred)**2, axis = None)\n",
    "print(\"MSE :\", mse)\n",
    "\n",
    "# Calculating the root mean squared error\n",
    "rmse = np.sqrt(mse)\n",
    "print(\"RMSE :\", rmse)\n",
    "\n",
    "# Calculating the r2 score\n",
    "r2 = r2_score(y_test, y_pred)\n",
    "print(\"r2 score :\", r2)\n"
   ]
  },
  {
   "cell_type": "markdown",
   "metadata": {},
   "source": [
    "# RANDOM FOREST"
   ]
  },
  {
   "cell_type": "code",
   "execution_count": 29,
   "metadata": {},
   "outputs": [
    {
     "name": "stdout",
     "output_type": "stream",
     "text": [
      "MSE : 21771774.952780135\n",
      "RMSE : 4666.023462519251\n",
      "r2 score : 0.8588567467105678\n"
     ]
    }
   ],
   "source": [
    "from sklearn.ensemble import RandomForestRegressor\n",
    "\n",
    "# creating the model\n",
    "model = RandomForestRegressor(n_estimators = 40, max_depth = 4, n_jobs = -1)\n",
    "\n",
    "# feeding the training data to the model\n",
    "model.fit(x_train, y_train)\n",
    "\n",
    "# predicting the test set results\n",
    "y_pred = model.predict(x_test)\n",
    "\n",
    "# calculating the mean squared error\n",
    "mse = np.mean((y_test - y_pred)**2, axis = None)\n",
    "print(\"MSE :\", mse)\n",
    "\n",
    "# Calculating the root mean squared error\n",
    "rmse = np.sqrt(mse)\n",
    "print(\"RMSE :\", rmse)\n",
    "\n",
    "# Calculating the r2 score\n",
    "r2 = r2_score(y_test, y_pred)\n",
    "print(\"r2 score :\", r2)"
   ]
  },
  {
   "cell_type": "code",
   "execution_count": 30,
   "metadata": {},
   "outputs": [
    {
     "name": "stdout",
     "output_type": "stream",
     "text": [
      "[45053.13146875  5693.88788415  5879.46537583 16791.04722302\n",
      " 10289.48680578  5693.88788415  2580.17659505 10300.81036863\n",
      " 41599.43173212 13107.51925818  6714.47477196 10389.70319755\n",
      " 46358.05303823 12939.69814274  2580.17659505 24399.25003488\n",
      " 10268.80194121  8804.76236121 17774.22459419 10018.36594206\n",
      "  2580.17659505  6126.75960955 10295.86368702  7832.76541377\n",
      " 25674.69016332 45347.71523488 13831.94950896  5526.42248895\n",
      "  6800.16285093 10632.10503483  5496.35832274 37237.44182396\n",
      "  2636.93402307 10472.86455038 13107.51925818  6126.75960955\n",
      "  2535.67046477  6714.47477196  2580.17659505  6346.48604942\n",
      "  6331.28255482 23397.47545993  4541.43708997 13107.51925818\n",
      "  6616.83239487 39932.9271464   6315.03002812  2580.17659505\n",
      "  3252.97787716  6201.34369716  6991.87138643  9776.90803923\n",
      " 13252.99287897  2535.67046477  6800.16285093  7553.09780525\n",
      " 20326.70735706  5271.40914819 13107.51925818  6352.15970013\n",
      " 13204.93525049  6346.48604942 10931.78334347  5108.18290636\n",
      "  2580.17659505  5596.24550706 10575.9614708   5496.35832274\n",
      "  6297.70495841 13204.93525049 14414.60066656  2580.17659505\n",
      "  3196.22044914  9825.90670753 15220.64938667  3303.47961391\n",
      "  8990.37371259  9990.3925642  20122.0084118   4541.43708997\n",
      "  2580.17659505  8971.91008267  6456.06671215 19066.53356188\n",
      "  2580.17659505 14557.26001125  6800.16285093 14698.99208052\n",
      " 10131.57432117  7026.29439147 14456.10246741 13087.06351987\n",
      " 36488.35902486  6991.87138643 26969.47940104  4738.82066761\n",
      " 10462.62206652  6540.14216064  6222.43922925 44670.40313604\n",
      " 45053.13146875 13107.51925818  7169.2812277   5049.91221214\n",
      " 39214.15035707 17649.3556417   6269.74644578 45053.13146875\n",
      " 26672.98166698  2636.93402307 12939.69814274  7425.67823725\n",
      "  6622.98139298 18673.99247582  4738.82066761  6042.69161765\n",
      " 13107.51925818  6126.75960955  8213.66778827 10065.887473\n",
      "  3098.57807205  6847.22690729 25578.92962458 13682.59172098\n",
      " 18993.28305153 14039.88146558 14459.84401893  7134.85822266\n",
      " 22611.6455064  13188.63059018 10516.81433728  4922.60541468\n",
      " 41104.75654646 36425.31346144 13252.99287897  2535.67046477\n",
      " 45960.87701203 18461.2003604  13890.11698784  6173.00349663\n",
      " 13085.17176353 10526.80990029  5955.85789965 45719.28512093\n",
      "  6551.37906009 10352.52497143  5356.54929025  6663.83376162\n",
      "  7134.85822266 26058.10816332 13350.40887128  9619.38416108\n",
      "  6456.06671215  7854.34195277  6714.47477196  6722.69350049\n",
      "  2580.17659505 13252.99287897 13733.59062656  2580.17659505\n",
      " 10091.53019226 38487.04132495 10472.86455038 10155.79590587\n",
      " 10661.10747315 13682.59172098 42034.59302896  6222.43922925\n",
      "  5596.24550706  5087.62440112  6943.14968716 13252.99287897\n",
      "  6947.07389219  5693.88788415 38867.33631864  8990.41805108\n",
      "  2580.17659505  4922.60541468 14459.84401893 20122.0084118\n",
      " 10203.43804743 13362.15926342  2535.67046477  2535.67046477\n",
      " 45824.8952889  38558.8703833  16791.04722302  6250.74106061\n",
      " 38493.00811251 10308.57518452  2580.17659505  5440.15280652\n",
      " 14039.88146558 10757.4984146   2580.17659505 13252.99287897\n",
      " 15366.12300746 25670.39582516 37370.36653577  5604.61939746\n",
      "  6800.16285093  2580.17659505  6714.47477196  5750.06605174\n",
      " 38082.89797228  6495.63603036  2636.93402307 45086.29074985\n",
      " 42991.25268137 43655.09120764  6205.39660147  6269.74644578\n",
      " 45699.452527    9619.38416108  5108.18290636 45999.3384957\n",
      "  4738.82066761  2580.17659505 13248.84180098 17001.76420732\n",
      "  6800.16285093 45647.60120358  7784.25522319  2535.67046477\n",
      "  5271.40914819  7134.85822266  6616.83239487  4922.60541468\n",
      "  6944.86928438  2580.17659505  7169.2812277  13188.63059018\n",
      " 10155.79590587 13252.99287897 10575.9614708  27510.98235997\n",
      " 39755.64228844 13252.99287897  6496.56195995 36712.05322019\n",
      " 14553.51845973 14819.40027474 10295.86368702  2535.67046477\n",
      " 14645.48263868 14039.88146558  2580.17659505  2636.93402307\n",
      "  4922.60541468 13204.93525049  6675.35666109  9927.58729395\n",
      " 10613.01665609 26428.64256829 19721.37415559  6683.74004995\n",
      " 10628.49048671 10459.25443924 13107.51925818 20034.35702015\n",
      "  6616.83239487 14039.88146558  4922.60541468 13151.42580866\n",
      " 13204.93525049  6432.70119434 10219.93556409  6752.27499588]\n"
     ]
    }
   ],
   "source": [
    "print(y_pred)"
   ]
  },
  {
   "cell_type": "code",
   "execution_count": 31,
   "metadata": {},
   "outputs": [
    {
     "name": "stdout",
     "output_type": "stream",
     "text": [
      "338    41919.09700\n",
      "620     3659.34600\n",
      "965     4746.34400\n",
      "128    32734.18630\n",
      "329     9144.56500\n",
      "          ...     \n",
      "580    12913.99240\n",
      "786    12741.16745\n",
      "321    24671.66334\n",
      "903     8125.78450\n",
      "613     6753.03800\n",
      "Name: charges, Length: 268, dtype: float64\n"
     ]
    }
   ],
   "source": [
    "print(y_test)"
   ]
  },
  {
   "cell_type": "markdown",
   "metadata": {},
   "source": [
    "\n",
    "# Decision Forest\n"
   ]
  },
  {
   "cell_type": "code",
   "execution_count": 32,
   "metadata": {},
   "outputs": [
    {
     "name": "stdout",
     "output_type": "stream",
     "text": [
      "MSE : 42566504.71200068\n",
      "RMSE : 6524.301089925318\n",
      "r2 score : 0.7240475354332774\n"
     ]
    }
   ],
   "source": [
    "from sklearn.tree import DecisionTreeRegressor\n",
    "\n",
    "# creating the model\n",
    "model = DecisionTreeRegressor()\n",
    "\n",
    "# feeding the training data to the model\n",
    "model.fit(x_train, y_train)\n",
    "\n",
    "# predicting the test set results\n",
    "y_pred = model.predict(x_test)\n",
    "\n",
    "# calculating the mean squared error\n",
    "mse = np.mean((y_test - y_pred)**2, axis = None)\n",
    "print(\"MSE :\", mse)\n",
    "\n",
    "# Calculating the root mean squared error\n",
    "rmse = np.sqrt(mse)\n",
    "print(\"RMSE :\", rmse)\n",
    "\n",
    "# Calculating the r2 score\n",
    "r2 = r2_score(y_test, y_pred)\n",
    "print(\"r2 score :\", r2)\n"
   ]
  },
  {
   "cell_type": "code",
   "execution_count": 33,
   "metadata": {},
   "outputs": [
    {
     "name": "stdout",
     "output_type": "stream",
     "text": [
      "[41097.16175   4449.462     4747.0529   19444.2658    8457.818\n",
      " 18903.49141   1141.4451    9225.2564   62592.87309  10959.33\n",
      "  5484.4673   20878.78443  42124.5153   11938.25595   1131.5066\n",
      " 26926.5144   20878.78443   9101.798    19444.2658    7345.084\n",
      "  1131.5066    4889.9995    9644.2525   12797.20962  24393.6224\n",
      " 45710.20785  11264.541     4544.2348    6356.2707   10370.91255\n",
      " 14426.07385  37133.8982    1515.3449    9880.068    11735.87905\n",
      "  5926.846     2007.945     6123.5688    1708.0014   20420.60465\n",
      "  4438.2634   24106.91255   1815.8759   10594.2257    6112.35295\n",
      " 42112.2356   20177.67113   1136.3994    2639.0429    4830.63\n",
      "  8538.28845   8733.22925  11455.28      1967.0227    7209.4918\n",
      "  6117.4945   19719.6947    3353.4703   11735.87905   4234.927\n",
      " 10450.552     5757.41345  10141.1362    3866.8552    1702.4553\n",
      "  3766.8838   26140.3603   14426.07385   4766.022    10601.412\n",
      " 12523.6048   11774.159275  1711.0268    8615.3      14119.62\n",
      "  2709.1119    7740.337     7742.1098   17904.52705   2690.1138\n",
      "  2196.4732    7633.7206    5910.944    20296.86345   2196.4732\n",
      " 12648.7034    6082.405    13470.8044    8688.85885   7512.267\n",
      " 12557.6053   10085.846    36189.1017    7160.094    27533.9129\n",
      "  2322.6218    9282.4806   11884.04858   5472.449    41999.52\n",
      " 41661.602    10791.96      7512.267     3227.1211   38415.474\n",
      " 15817.9857    6551.7501   41097.16175  25309.489     2102.2647\n",
      " 10065.413     7986.47525   2803.69785  19361.9988    3556.9223\n",
      "  4718.20355  27346.04207   5989.52365   8410.04685   8023.13545\n",
      "  1727.54      6610.1097   28101.33305  11881.9696   19521.9682\n",
      " 13012.20865  12638.195     7729.64575  18767.7377   11286.5387\n",
      "  9861.025     2867.1196   42112.2356   34779.615    11657.7189\n",
      "  1639.5631   47269.854    18223.4512   11741.726     3987.926\n",
      "  9625.92     26140.3603   23288.9284   43578.9394    5375.038\n",
      "  9957.7216    3227.1211    4906.40965   7256.7231   24520.264\n",
      " 24227.33724   7742.1098    5920.1041    6250.435     6238.298\n",
      "  7512.267     7882.429475 11286.5387   11411.685     1633.9618\n",
      "  9704.66805  35491.64      8988.15875   7337.748    10115.00885\n",
      " 13224.05705  40419.0191    5478.0368    4151.0287    2302.3\n",
      "  6457.8434   11305.93455   6402.29135   4438.2634   39047.285\n",
      "  8302.53565   1135.9407   17878.90068  12638.195    17904.52705\n",
      "  8515.7587   10564.8845    2007.945     2117.33885  46889.2612\n",
      " 37165.1638   19444.2658   18804.7524   37079.372     8798.593\n",
      "  1121.8739    3292.52985  12622.1795   10600.5483   11774.159275\n",
      " 11658.37915  15612.19335  21348.706    37133.8982    5227.98875\n",
      "  6356.2707    1135.9407    6067.12675   4402.233    38511.6283\n",
      "  2913.569     2166.732    43254.41795  42124.5153   43753.33705\n",
      " 18903.49141   5253.524    47269.854     7742.1098    3554.203\n",
      " 46255.1125    3556.9223    2203.73595  10226.2842   16657.71745\n",
      "  6313.759    46718.16325   6948.7008    1252.407     3353.4703\n",
      "  7749.1564    6079.6715    3866.8552    7077.1894   11482.63485\n",
      "  7512.267    35160.13457   7337.748    11090.7178    8277.523\n",
      " 19350.3689   38792.6856   11305.93455   5926.846    37465.34375\n",
      " 12979.358    13224.693     8442.667     1759.338    31620.00106\n",
      " 13012.20865  11774.159275  1532.4697    3385.39915  10226.2842\n",
      "  4391.652     8733.22925  10370.91255  28950.4692   17178.6824\n",
      "  4561.1885   10043.249     9174.13565  10959.33     35147.52848\n",
      "  6079.6715   12244.531     3761.292    11554.2236   11363.2832\n",
      " 17128.42608  20878.78443   4766.022   ]\n"
     ]
    }
   ],
   "source": [
    "print(y_pred)"
   ]
  },
  {
   "cell_type": "code",
   "execution_count": 34,
   "metadata": {},
   "outputs": [
    {
     "name": "stdout",
     "output_type": "stream",
     "text": [
      "338    41919.09700\n",
      "620     3659.34600\n",
      "965     4746.34400\n",
      "128    32734.18630\n",
      "329     9144.56500\n",
      "          ...     \n",
      "580    12913.99240\n",
      "786    12741.16745\n",
      "321    24671.66334\n",
      "903     8125.78450\n",
      "613     6753.03800\n",
      "Name: charges, Length: 268, dtype: float64\n"
     ]
    }
   ],
   "source": [
    "print(y_test)"
   ]
  },
  {
   "cell_type": "code",
   "execution_count": null,
   "metadata": {},
   "outputs": [],
   "source": []
  }
 ],
 "metadata": {
  "kernelspec": {
   "display_name": "Python 3",
   "language": "python",
   "name": "python3"
  },
  "language_info": {
   "codemirror_mode": {
    "name": "ipython",
    "version": 3
   },
   "file_extension": ".py",
   "mimetype": "text/x-python",
   "name": "python",
   "nbconvert_exporter": "python",
   "pygments_lexer": "ipython3",
   "version": "3.8.5"
  }
 },
 "nbformat": 4,
 "nbformat_minor": 4
}
